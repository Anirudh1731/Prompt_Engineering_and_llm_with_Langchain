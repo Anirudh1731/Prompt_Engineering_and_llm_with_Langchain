{
  "nbformat": 4,
  "nbformat_minor": 0,
  "metadata": {
    "colab": {
      "provenance": [],
      "gpuType": "T4",
      "authorship_tag": "ABX9TyOOpC/o44YP/GLNK5K4XlJp",
      "include_colab_link": true
    },
    "kernelspec": {
      "name": "python3",
      "display_name": "Python 3"
    },
    "language_info": {
      "name": "python"
    },
    "accelerator": "GPU"
  },
  "cells": [
    {
      "cell_type": "markdown",
      "metadata": {
        "id": "view-in-github",
        "colab_type": "text"
      },
      "source": [
        "<a href=\"https://colab.research.google.com/github/Anirudh1731/Prompt_Engineering_and_llm_with_Langchain/blob/main/PDF_Finder.ipynb\" target=\"_parent\"><img src=\"https://colab.research.google.com/assets/colab-badge.svg\" alt=\"Open In Colab\"/></a>"
      ]
    },
    {
      "cell_type": "code",
      "execution_count": 1,
      "metadata": {
        "colab": {
          "base_uri": "https://localhost:8080/"
        },
        "id": "q-NlEPW8Llw1",
        "outputId": "2109307a-0e26-4019-b924-72b137a2b8d9"
      },
      "outputs": [
        {
          "output_type": "stream",
          "name": "stdout",
          "text": [
            "Collecting langchain\n",
            "  Downloading langchain-0.1.14-py3-none-any.whl (812 kB)\n",
            "\u001b[2K     \u001b[90m━━━━━━━━━━━━━━━━━━━━━━━━━━━━━━━━━━━━━━━━\u001b[0m \u001b[32m812.8/812.8 kB\u001b[0m \u001b[31m8.8 MB/s\u001b[0m eta \u001b[36m0:00:00\u001b[0m\n",
            "\u001b[?25hRequirement already satisfied: PyYAML>=5.3 in /usr/local/lib/python3.10/dist-packages (from langchain) (6.0.1)\n",
            "Requirement already satisfied: SQLAlchemy<3,>=1.4 in /usr/local/lib/python3.10/dist-packages (from langchain) (2.0.29)\n",
            "Requirement already satisfied: aiohttp<4.0.0,>=3.8.3 in /usr/local/lib/python3.10/dist-packages (from langchain) (3.9.3)\n",
            "Requirement already satisfied: async-timeout<5.0.0,>=4.0.0 in /usr/local/lib/python3.10/dist-packages (from langchain) (4.0.3)\n",
            "Collecting dataclasses-json<0.7,>=0.5.7 (from langchain)\n",
            "  Downloading dataclasses_json-0.6.4-py3-none-any.whl (28 kB)\n",
            "Collecting jsonpatch<2.0,>=1.33 (from langchain)\n",
            "  Downloading jsonpatch-1.33-py2.py3-none-any.whl (12 kB)\n",
            "Collecting langchain-community<0.1,>=0.0.30 (from langchain)\n",
            "  Downloading langchain_community-0.0.31-py3-none-any.whl (1.9 MB)\n",
            "\u001b[2K     \u001b[90m━━━━━━━━━━━━━━━━━━━━━━━━━━━━━━━━━━━━━━━━\u001b[0m \u001b[32m1.9/1.9 MB\u001b[0m \u001b[31m19.8 MB/s\u001b[0m eta \u001b[36m0:00:00\u001b[0m\n",
            "\u001b[?25hCollecting langchain-core<0.2.0,>=0.1.37 (from langchain)\n",
            "  Downloading langchain_core-0.1.39-py3-none-any.whl (276 kB)\n",
            "\u001b[2K     \u001b[90m━━━━━━━━━━━━━━━━━━━━━━━━━━━━━━━━━━━━━━━━\u001b[0m \u001b[32m276.6/276.6 kB\u001b[0m \u001b[31m9.6 MB/s\u001b[0m eta \u001b[36m0:00:00\u001b[0m\n",
            "\u001b[?25hCollecting langchain-text-splitters<0.1,>=0.0.1 (from langchain)\n",
            "  Downloading langchain_text_splitters-0.0.1-py3-none-any.whl (21 kB)\n",
            "Collecting langsmith<0.2.0,>=0.1.17 (from langchain)\n",
            "  Downloading langsmith-0.1.39-py3-none-any.whl (87 kB)\n",
            "\u001b[2K     \u001b[90m━━━━━━━━━━━━━━━━━━━━━━━━━━━━━━━━━━━━━━━━\u001b[0m \u001b[32m87.5/87.5 kB\u001b[0m \u001b[31m9.0 MB/s\u001b[0m eta \u001b[36m0:00:00\u001b[0m\n",
            "\u001b[?25hRequirement already satisfied: numpy<2,>=1 in /usr/local/lib/python3.10/dist-packages (from langchain) (1.25.2)\n",
            "Requirement already satisfied: pydantic<3,>=1 in /usr/local/lib/python3.10/dist-packages (from langchain) (2.6.4)\n",
            "Requirement already satisfied: requests<3,>=2 in /usr/local/lib/python3.10/dist-packages (from langchain) (2.31.0)\n",
            "Requirement already satisfied: tenacity<9.0.0,>=8.1.0 in /usr/local/lib/python3.10/dist-packages (from langchain) (8.2.3)\n",
            "Requirement already satisfied: aiosignal>=1.1.2 in /usr/local/lib/python3.10/dist-packages (from aiohttp<4.0.0,>=3.8.3->langchain) (1.3.1)\n",
            "Requirement already satisfied: attrs>=17.3.0 in /usr/local/lib/python3.10/dist-packages (from aiohttp<4.0.0,>=3.8.3->langchain) (23.2.0)\n",
            "Requirement already satisfied: frozenlist>=1.1.1 in /usr/local/lib/python3.10/dist-packages (from aiohttp<4.0.0,>=3.8.3->langchain) (1.4.1)\n",
            "Requirement already satisfied: multidict<7.0,>=4.5 in /usr/local/lib/python3.10/dist-packages (from aiohttp<4.0.0,>=3.8.3->langchain) (6.0.5)\n",
            "Requirement already satisfied: yarl<2.0,>=1.0 in /usr/local/lib/python3.10/dist-packages (from aiohttp<4.0.0,>=3.8.3->langchain) (1.9.4)\n",
            "Collecting marshmallow<4.0.0,>=3.18.0 (from dataclasses-json<0.7,>=0.5.7->langchain)\n",
            "  Downloading marshmallow-3.21.1-py3-none-any.whl (49 kB)\n",
            "\u001b[2K     \u001b[90m━━━━━━━━━━━━━━━━━━━━━━━━━━━━━━━━━━━━━━━━\u001b[0m \u001b[32m49.4/49.4 kB\u001b[0m \u001b[31m2.9 MB/s\u001b[0m eta \u001b[36m0:00:00\u001b[0m\n",
            "\u001b[?25hCollecting typing-inspect<1,>=0.4.0 (from dataclasses-json<0.7,>=0.5.7->langchain)\n",
            "  Downloading typing_inspect-0.9.0-py3-none-any.whl (8.8 kB)\n",
            "Collecting jsonpointer>=1.9 (from jsonpatch<2.0,>=1.33->langchain)\n",
            "  Downloading jsonpointer-2.4-py2.py3-none-any.whl (7.8 kB)\n",
            "Collecting packaging<24.0,>=23.2 (from langchain-core<0.2.0,>=0.1.37->langchain)\n",
            "  Downloading packaging-23.2-py3-none-any.whl (53 kB)\n",
            "\u001b[2K     \u001b[90m━━━━━━━━━━━━━━━━━━━━━━━━━━━━━━━━━━━━━━━━\u001b[0m \u001b[32m53.0/53.0 kB\u001b[0m \u001b[31m5.8 MB/s\u001b[0m eta \u001b[36m0:00:00\u001b[0m\n",
            "\u001b[?25hCollecting orjson<4.0.0,>=3.9.14 (from langsmith<0.2.0,>=0.1.17->langchain)\n",
            "  Downloading orjson-3.10.0-cp310-cp310-manylinux_2_17_x86_64.manylinux2014_x86_64.whl (144 kB)\n",
            "\u001b[2K     \u001b[90m━━━━━━━━━━━━━━━━━━━━━━━━━━━━━━━━━━━━━━━━\u001b[0m \u001b[32m144.8/144.8 kB\u001b[0m \u001b[31m6.8 MB/s\u001b[0m eta \u001b[36m0:00:00\u001b[0m\n",
            "\u001b[?25hRequirement already satisfied: annotated-types>=0.4.0 in /usr/local/lib/python3.10/dist-packages (from pydantic<3,>=1->langchain) (0.6.0)\n",
            "Requirement already satisfied: pydantic-core==2.16.3 in /usr/local/lib/python3.10/dist-packages (from pydantic<3,>=1->langchain) (2.16.3)\n",
            "Requirement already satisfied: typing-extensions>=4.6.1 in /usr/local/lib/python3.10/dist-packages (from pydantic<3,>=1->langchain) (4.10.0)\n",
            "Requirement already satisfied: charset-normalizer<4,>=2 in /usr/local/lib/python3.10/dist-packages (from requests<3,>=2->langchain) (3.3.2)\n",
            "Requirement already satisfied: idna<4,>=2.5 in /usr/local/lib/python3.10/dist-packages (from requests<3,>=2->langchain) (3.6)\n",
            "Requirement already satisfied: urllib3<3,>=1.21.1 in /usr/local/lib/python3.10/dist-packages (from requests<3,>=2->langchain) (2.0.7)\n",
            "Requirement already satisfied: certifi>=2017.4.17 in /usr/local/lib/python3.10/dist-packages (from requests<3,>=2->langchain) (2024.2.2)\n",
            "Requirement already satisfied: greenlet!=0.4.17 in /usr/local/lib/python3.10/dist-packages (from SQLAlchemy<3,>=1.4->langchain) (3.0.3)\n",
            "Collecting mypy-extensions>=0.3.0 (from typing-inspect<1,>=0.4.0->dataclasses-json<0.7,>=0.5.7->langchain)\n",
            "  Downloading mypy_extensions-1.0.0-py3-none-any.whl (4.7 kB)\n",
            "Installing collected packages: packaging, orjson, mypy-extensions, jsonpointer, typing-inspect, marshmallow, jsonpatch, langsmith, dataclasses-json, langchain-core, langchain-text-splitters, langchain-community, langchain\n",
            "  Attempting uninstall: packaging\n",
            "    Found existing installation: packaging 24.0\n",
            "    Uninstalling packaging-24.0:\n",
            "      Successfully uninstalled packaging-24.0\n",
            "Successfully installed dataclasses-json-0.6.4 jsonpatch-1.33 jsonpointer-2.4 langchain-0.1.14 langchain-community-0.0.31 langchain-core-0.1.39 langchain-text-splitters-0.0.1 langsmith-0.1.39 marshmallow-3.21.1 mypy-extensions-1.0.0 orjson-3.10.0 packaging-23.2 typing-inspect-0.9.0\n",
            "Collecting openai\n",
            "  Downloading openai-1.16.1-py3-none-any.whl (266 kB)\n",
            "\u001b[2K     \u001b[90m━━━━━━━━━━━━━━━━━━━━━━━━━━━━━━━━━━━━━━━━\u001b[0m \u001b[32m266.9/266.9 kB\u001b[0m \u001b[31m4.0 MB/s\u001b[0m eta \u001b[36m0:00:00\u001b[0m\n",
            "\u001b[?25hRequirement already satisfied: anyio<5,>=3.5.0 in /usr/local/lib/python3.10/dist-packages (from openai) (3.7.1)\n",
            "Requirement already satisfied: distro<2,>=1.7.0 in /usr/lib/python3/dist-packages (from openai) (1.7.0)\n",
            "Collecting httpx<1,>=0.23.0 (from openai)\n",
            "  Downloading httpx-0.27.0-py3-none-any.whl (75 kB)\n",
            "\u001b[2K     \u001b[90m━━━━━━━━━━━━━━━━━━━━━━━━━━━━━━━━━━━━━━━━\u001b[0m \u001b[32m75.6/75.6 kB\u001b[0m \u001b[31m8.3 MB/s\u001b[0m eta \u001b[36m0:00:00\u001b[0m\n",
            "\u001b[?25hRequirement already satisfied: pydantic<3,>=1.9.0 in /usr/local/lib/python3.10/dist-packages (from openai) (2.6.4)\n",
            "Requirement already satisfied: sniffio in /usr/local/lib/python3.10/dist-packages (from openai) (1.3.1)\n",
            "Requirement already satisfied: tqdm>4 in /usr/local/lib/python3.10/dist-packages (from openai) (4.66.2)\n",
            "Requirement already satisfied: typing-extensions<5,>=4.7 in /usr/local/lib/python3.10/dist-packages (from openai) (4.10.0)\n",
            "Requirement already satisfied: idna>=2.8 in /usr/local/lib/python3.10/dist-packages (from anyio<5,>=3.5.0->openai) (3.6)\n",
            "Requirement already satisfied: exceptiongroup in /usr/local/lib/python3.10/dist-packages (from anyio<5,>=3.5.0->openai) (1.2.0)\n",
            "Requirement already satisfied: certifi in /usr/local/lib/python3.10/dist-packages (from httpx<1,>=0.23.0->openai) (2024.2.2)\n",
            "Collecting httpcore==1.* (from httpx<1,>=0.23.0->openai)\n",
            "  Downloading httpcore-1.0.5-py3-none-any.whl (77 kB)\n",
            "\u001b[2K     \u001b[90m━━━━━━━━━━━━━━━━━━━━━━━━━━━━━━━━━━━━━━━━\u001b[0m \u001b[32m77.9/77.9 kB\u001b[0m \u001b[31m9.3 MB/s\u001b[0m eta \u001b[36m0:00:00\u001b[0m\n",
            "\u001b[?25hCollecting h11<0.15,>=0.13 (from httpcore==1.*->httpx<1,>=0.23.0->openai)\n",
            "  Downloading h11-0.14.0-py3-none-any.whl (58 kB)\n",
            "\u001b[2K     \u001b[90m━━━━━━━━━━━━━━━━━━━━━━━━━━━━━━━━━━━━━━━━\u001b[0m \u001b[32m58.3/58.3 kB\u001b[0m \u001b[31m8.9 MB/s\u001b[0m eta \u001b[36m0:00:00\u001b[0m\n",
            "\u001b[?25hRequirement already satisfied: annotated-types>=0.4.0 in /usr/local/lib/python3.10/dist-packages (from pydantic<3,>=1.9.0->openai) (0.6.0)\n",
            "Requirement already satisfied: pydantic-core==2.16.3 in /usr/local/lib/python3.10/dist-packages (from pydantic<3,>=1.9.0->openai) (2.16.3)\n",
            "Installing collected packages: h11, httpcore, httpx, openai\n",
            "Successfully installed h11-0.14.0 httpcore-1.0.5 httpx-0.27.0 openai-1.16.1\n",
            "Collecting PyPDF2\n",
            "  Downloading pypdf2-3.0.1-py3-none-any.whl (232 kB)\n",
            "\u001b[2K     \u001b[90m━━━━━━━━━━━━━━━━━━━━━━━━━━━━━━━━━━━━━━━━\u001b[0m \u001b[32m232.6/232.6 kB\u001b[0m \u001b[31m6.1 MB/s\u001b[0m eta \u001b[36m0:00:00\u001b[0m\n",
            "\u001b[?25hInstalling collected packages: PyPDF2\n",
            "Successfully installed PyPDF2-3.0.1\n",
            "ERROR: unknown command \"intall\" - maybe you meant \"install\"\n",
            "Collecting tiktoken\n",
            "  Downloading tiktoken-0.6.0-cp310-cp310-manylinux_2_17_x86_64.manylinux2014_x86_64.whl (1.8 MB)\n",
            "\u001b[2K     \u001b[90m━━━━━━━━━━━━━━━━━━━━━━━━━━━━━━━━━━━━━━━━\u001b[0m \u001b[32m1.8/1.8 MB\u001b[0m \u001b[31m15.7 MB/s\u001b[0m eta \u001b[36m0:00:00\u001b[0m\n",
            "\u001b[?25hRequirement already satisfied: regex>=2022.1.18 in /usr/local/lib/python3.10/dist-packages (from tiktoken) (2023.12.25)\n",
            "Requirement already satisfied: requests>=2.26.0 in /usr/local/lib/python3.10/dist-packages (from tiktoken) (2.31.0)\n",
            "Requirement already satisfied: charset-normalizer<4,>=2 in /usr/local/lib/python3.10/dist-packages (from requests>=2.26.0->tiktoken) (3.3.2)\n",
            "Requirement already satisfied: idna<4,>=2.5 in /usr/local/lib/python3.10/dist-packages (from requests>=2.26.0->tiktoken) (3.6)\n",
            "Requirement already satisfied: urllib3<3,>=1.21.1 in /usr/local/lib/python3.10/dist-packages (from requests>=2.26.0->tiktoken) (2.0.7)\n",
            "Requirement already satisfied: certifi>=2017.4.17 in /usr/local/lib/python3.10/dist-packages (from requests>=2.26.0->tiktoken) (2024.2.2)\n",
            "Installing collected packages: tiktoken\n",
            "Successfully installed tiktoken-0.6.0\n"
          ]
        }
      ],
      "source": [
        "!pip install langchain\n",
        "!pip install openai\n",
        "!pip install PyPDF2\n",
        "!pip intall faiss-cpu\n",
        "!pip install tiktoken"
      ]
    },
    {
      "cell_type": "code",
      "source": [
        "from PyPDF2 import PdfReader\n",
        "from langchain.embeddings.openai import OpenAIEmbeddings\n",
        "from langchain.text_splitter import CharacterTextSplitter\n",
        "from langchain.vectorstores import FAISS"
      ],
      "metadata": {
        "id": "PArhD-MjLxgx"
      },
      "execution_count": 17,
      "outputs": []
    },
    {
      "cell_type": "code",
      "source": [
        "import os\n",
        "os.environ[\"OPENAI_API_KEY\"]=\"\""
      ],
      "metadata": {
        "id": "QlY_slF1MYdY"
      },
      "execution_count": 3,
      "outputs": []
    },
    {
      "cell_type": "code",
      "source": [
        "pdfreader=PdfReader('/content/3 turn meander.pdf')"
      ],
      "metadata": {
        "id": "P_3CO-UjNCC5"
      },
      "execution_count": 5,
      "outputs": []
    },
    {
      "cell_type": "code",
      "source": [
        "raw_text=\"\"\n",
        "\n",
        "for i,page in enumerate(pdfreader.pages):\n",
        "  content=page.extract_text()\n",
        "  if content:\n",
        "    raw_text+= content"
      ],
      "metadata": {
        "id": "da3C1ap7NypZ"
      },
      "execution_count": 6,
      "outputs": []
    },
    {
      "cell_type": "code",
      "source": [
        "raw_text"
      ],
      "metadata": {
        "colab": {
          "base_uri": "https://localhost:8080/",
          "height": 1000
        },
        "id": "4NxoZmGnOCgG",
        "outputId": "cd4da8e1-79b3-40d8-cd6e-9b8a9e712e26"
      },
      "execution_count": 14,
      "outputs": [
        {
          "output_type": "execute_result",
          "data": {
            "text/plain": [
              "'Design of a high sensitivity MEMS piezoresistive \\nintracranial pressure sensor using three turns meander \\nshaped piezoresistors \\nMazita Mohamada,d, Norhayati Soina,c,l, and Fatimah Ibrahimb,c \\naOepartment of Electrical Engineering, bOepartment of Biomedical Enginering, \\nFaculty of Engineering, University of Malaya, \\nKuala Lumpur, Malaysia \\nInorhayatisoin@um.edu.my \\nCCenter for Innovation in Medical Engineering (CIME), University of Malaya, \\nKuala Lumpur, Malaysia \\ndOepartment of Electronic Engineering, \\nFaculty of Electrical and Electronic Engineering, Universiti Tun Hussein Onn Malaysia (UTHM), \\nBatu Pahat, Johor, Malaysia \\nAbstract--- The advancement in MEMS technology has \\ntriggered the development of small sensing devices such as \\nintracranial pressure sensor. As the intracranial signal is a \\npulsating type, the sensor must be sensitive enough to detect these \\nchanges. Hence, the important parameters of intracranial \\npressure sensor are the sensitivity and linearity. At present, the \\nsensitivities were within the range of 2 I1V/v/mmHg to 0.17 \\nmV/v/mmHg with the smallest sensor size of 500 11m x 500 11m \\n(for adult). This paper presents the improved design of MEMS \\npiezoresistive pressure which aims at achieving higher sensitivity \\nfor subarachnoid space microsensor by using the three turns \\nmeander shaped piezoresistors. A square diaphragm of200 11m x \\n200 11m x 2 11m is set for the sensor. Different piezoresistors \\nconfigurations were simulated using COMSOL Multiphysics to \\ndetermine the better sensing outputs. The position of each \\npiezoresistor was based on von Mises stress. By choosing the \\nshape of piezoresistor that occupies most of the high stress \\nregion, the change in resistance per pressure will be higher. The \\ndesign which consolidates the three turns and zero turn meander \\nshaped piezoresistors was found to be the best with the sensitivity \\nof 0.125 mV/v/mmHg and linearity of 99%. This design has \\nfulfilled the specification ofthe intracranial pressure sensor. \\nKeywords- intracranial pressure sensor; MEMS; piezoresistive \\nI. INTRODUCTION \\nThe sensors developed using the MEMS technology have \\ntremendously shrunk in size make them ideal for biomedical \\napplication like intracranial monitoring devices. Using a small \\npressure sensor requires a small intubation, makes the healing \\ntime shorter and minimizes the risk of infection. Based on [1], \\nthe most common location for intracranial pressure (lCP) \\nmonitoring is cerebral parenchymal and contemporary \\nintracranial pressure sensor of that location is a piezoresistive \\npressure sensor. Although the piezoresistive output is \\nsensitive to temperature changes, it could be corrected easily \\nby using a simple compensation circuit, namely Wheatstone \\nbridge [2]. Ideally, the ICP pressure sensor should be durable, bio\\xad\\ncompatible and inexpensive. As ICP monitoring deals with \\nthe well-being, therefore accuracy and sensitivity of the ICP \\npressure sensors are very crucial. The sensitivity of the \\ncommercially available ICP microtransducer is 5 fl V N ImmHg \\n(Gaeltec & Raumedic). Based on the academic researches, the \\nsensitivities of the piezoresistive sensors were within the range \\nof 2 fl V N ImmHg to 0.17 m V N ImmHg [3-10]. To obtain the \\naccurate readings, several factors need to be considered such \\nas the shapes of piezoresistors and the dimensions of the \\ndiaphragm. For the ICP application, its critical point is the \\nsize of the sensor itself. It needs to be small enough to fit into \\nthe probe. The smallest size of ICP pressure sensor for the \\nadult is 500 flm x 500 flm with the sensitivity of 2 \\nfl V N ImmHg, but it is for the lumbar area [10]. \\nThis paper presents the design of an ICP piezoresistive \\npressure sensor using three turns meander shaped \\npiezoresistors. Thus far, only the one turn meander shaped \\npiezoresistors have been applied in the designs ofICP pressure \\nsensor [5, 7, 9, 10] while [3] have used the three turns \\nmeander shaped piezoresistors on the cantilever, not on the \\ndiaphragm like this work. The size of diaphragm used is 200 \\nflm x 200 flm x 2 flm using n-type silicon. The targeted \\nlocation of ICP pressure sensor is the subarachnoid space with \\nthe measurable pressure within the range of 0 -100 mmHg. \\nII. PIEZORESISTIVE PRESSURE SENSOR \\nA piezoresistive pressure sensor is normally consists of 4 \\npiezoresistors arranged in Wheatstone bridge configuration as \\nillustrated in Fig. I. When no pressure is applied, the output \\nvoltage, Vaut is zero as all the piezoresistors are equal, \\ntherefore the bridge is in a balanced state. When the \\ndiaphragm deflects due to the applied pressure, these \\npiezoresistors\\' values change accordingly. For the p-type \\npiezoresistors oriented at <110> on an-type (100) silicon \\nsubstrate, change in resistance value is expressed in (I) [2]. \\n978-1-5090-4568-6/16/$31.00 ©2016 IEEE Rj diaphragm \\nr - - - -0--\\'~-J\"\"-l--------\\n: --I \\nI R2 R31 b d \\nI 1 \\n1 \\\\J 1 \\n~ ___ CJ ____ ~ R, [J \\n(a) (b) (c) \\nFig. l. (a) Schematic ofpiezoresistive pressure sensor (top view). (b) Pressure sensor (side view). (c) The equivalent Wheatstone configuration .[ll] \\n(1) \\nlr, and lrt are piezoresistive coefficients of the material \\nalong longitudinal and transverse directions and their \\nexpressions are indicated in (2) and (3). 0\\', and O\\'t are the \\nstresses along longitudinal and transverse directions [2]. \\n(2) \\n(3) \\nParallel piezoresistors will decrease and the perpendicular \\nones will increase [II]. Due to the symmetrical designs of \\nthese piezoresistors, the changes in resistances are equal \\ndepending on the arrangement, i.e. I1R, = I1Rt and I1R 2= I1R J. \\nThus, the output voltage will also change as expressed in (4) \\nwhere R is the value of resistance when no pressure is applied. \\n(I1RI +I1R 2) V = ·v ~) \\nOllt 2R+I1R2 -I1RI 111 \\nIII. DESIGN METHODOLOGY \\nThe sensors were designed based on the specifications \\nsummarized in Table I. The size of the sensor was set in \\norder to fit into 4FR probe. The sensitivity of greater than \\n0.01 mV/V/mmHg was set as the previous research for the \\nsame sensor size is 2 f..lV/V/mmHg [10]. The design stage was \\nsegregated into two, i.e. determine (a) the location for the \\npiezoresistors on the diaphragm size of 200 f..lm x 200 f..lm x 2 \\n/lm and (b) the best piezoresistors configuration. A square \\ndiaphragm is selected because it has 60 % higher mechanical \\nstress instead of circular one for the same thickness [7]. \\nA. Selection ofPiezoresistors Placement, Size and Shape \\nP-type piezoresistors (with doping concentration of 1015 \\natomlcm3) oriented at <110> on an-type (100) silicon \\nsubstrate were chosen in the designs. These piezoresistors \\nneed to be placed in the high stress region [2, 11, 12]. Hence, \\nthe von Mises stress result from the COMSOL Multiphysics \\nsimulation was used as illustrated in Fig. 2. The high stress \\nregion was found within the diaphragm and near the center of \\nthe edges, i.e. the red region. This is in agreement with the \\ntheory which states that the center of edges are experiencing TABLE I. DESIGN SPECIFIC A nONS OF ICP PRESSURE SENSOR \\nParameter Value \\nPressure range [13] 0-100 mmHg \\nSize dimension [10]: \\nSensor 500 11m x 500 11m \\nDiaphragm 200 11m x 200 11m \\nSensitivity [10] >0.01 mV/v/mmHg \\nLinearity [3-10] >90% \\nInput voltage , Vin [13] IV \\ntebal(4) =2e-6 Suriace: von Mises stress (MPa) Slice: x-coordinate (11m) \\nSlice: y-coordinate (I-Im) \\ny ~35.2 \\n35 \\n30 \\n25 \\n20 \\n15 \\n10 \\ny \\nL x \\nFig. 2. Surface von-Mises stress of the diaphragm at pressure of 100 mmHg. \\nmore mechanical stress than the central point [2]. As the 2 /lm \\nthickness is considered a thin diaphragm, the high stress \\nregion is not extended into the bulk silicon area as mentioned \\nin [II, 12]. Therefore, the four piezoresistors were positioned \\nat the center of the diaphragm\\'s edges. Three types of piezoresistors were used in the design as \\ndepicted in Fig. 3. The piezoresistors were comprised of \\npiezoresistive bars (p-type) and connecting bars (metal). The \\nconnecting bars will not contribute to the piezoresistive effect \\n[12]. The piezoresistors sizes were designed to fit into the \\nhigh stress regions [II]. Hence, the dimension of O-turn \\nmeander shaped piezoresistor was set to 80 /lm x 5 /lm. To \\nensure the equal resistances at the no load condition, the total \\nlength of the piezoresistive bar must be equal [11]. Therefore, \\nthe piezoresistive bars of I-turn and 3-turns meander shaped \\npiezoresistors were set to be fractions of 80 /lm as shown in \\nTable 2. \\nB. Selection ofDifierent Piezoresistors Configurations \\nFour models of different piezoresistors sensors were \\nselected as shown in Fig. 4 in accomplishing the high \\nsensitivity sensor. The models were selected based on the \\nresearches by [11, 12]. In order to test their performances, the \\nsimulations were done by using COM SOL Multiphysics \\nthrough Structural Mechanics Module -Piezoresistivity, \\nBoundary Currents. Combinations of tetrahedral mesh (for \\ndiaphragm and substrate) and quadrilateral mesh (for circuit \\nelements) were used in this project. \\nIV. RESULTS AND DISCUSSIONS \\nTo ensure the linearity and sensitivity performance of the \\npressure sensor, several parameters need to be considered. \\nThese critical key factors include the shape and location of \\npiezoresistors. \\nA. Analysis of Sensitivity PerfOrmance of the Sensors \\nFig. 5 shows the output voltage of each model. All the \\nmodels achieve the targeted specification for sensitivity, i.e. \\nabove 0.01 mVIV/mmHg. Model 2, which comprised of 0-\\nturn and 3-turns piezoresistors gives the highest sensitivity of \\n0.125 m V IV /mmHg, followed closely by Model 3 which is \\ncomposed of I-turn and 3-turns meander shaped piezoresistors \\nwith the sensitivity of 0.122 mVIV/mmHg. Meanwhile, \\nModell gives the lowest sensitivity of 0.101 mVIV/mmHg. \\nThe results are supported with the graph of change in \\nresistance of different piezoresistor shapes, illustrated in Fig. \\n6. Parallel piezoresistors (R 1 and R4 of each model) decrease \\n~(==l~Pb~:j~~i~ ~r ./ ~ connecting bar piezoresistive baw \\nI: Iii Wpb l 5 gap \\n~ \\nWeb \\n(a) (b) (c) \\nFig. 3. Meander shaped piezoresistors (a) zero turn (O-turn) (b) one turn \\n(l-turn) (c) three turns (3-turns). \\nTABLE II. GEOMETRIC PARAMETERS OF P1EZORES1STORS \\nGeometric Parameter Zero turn One turn Three turns \\nlpb 80 40 20 \\nWpb 5 5 5 \\nWeb - 10 10 \\ng,p - 5 5 \\n(All values are III J.lm) in resistance values while the perpendicular piezoresistors (R2 \\nand R3) increase in resistance values as the pressure increases. \\nThe 3-turns meander shaped piezoresistor located \\nperpendicular to the diaphragm experiences the most change, \\n+/l..R/R = 1.6E-3 per 10 mmHg. [t is followed by the I-turn \\npiezoresistor placed perpendicular to the diaphragm in which \\nthe change in resistance, +/l..R/R = 1.1 E-3 per 10 mmHg. The \\nresults concur with [II, 12] that the sensitivity will be \\nimproved as the number of vertical bar increases. It is due to \\nthe maximum distribution area of the piezoresistor on the \\nhigh-stress region in comparison to the other types of \\npiezoresistors [II]. \\nHowever, the placement of piezoresistor also plays an \\nimportant factor [2, 14] as illustrated in Fig. 6. The 3-turns \\nr--=---, \\nI , , , \\nL-. _ .c::==::::J __ J \\nModell \\n~--~---i \\n, , \\ni I \\n, I \\n~ __ -.aJ ___ ~ \\nModel 3 r - - c::==::::J\\'. --, \\nI , \\n~ W : ~ \\nI , \\n..... _ ,.C::==::::J. _ _ J \\nModel 2 \\nModel 4 R, \\n~---l:J---i \\n:R2 ~; \\nD D , I : ~ : \\n~ ___ D ____ ~ \\nFig. 4. Four models of different piezoresistors configurations. \\n12 \\n10 \\n:; \\noS 6 \\n\"5 \\ng 4 \\n20 ..... \\n40 60 80 100 \\nApplied pressure (mmHg) \\nFig. 5. Output voltage of each model at different pressure settings. \\nApplied pressure (mmHg) \\nFig. 6. Change in resistance for diflerent shape ofpiezoresistors. piezoresistor placed in parallel experiences the least change in \\nresistance, -I\\'!.RlR = 0.70E-3 per 10 mmHg. This is why \\nModel 4 does not give the highest sensitivity. For \\npiezoresistor placed in parallel, the most change happen in the \\nO-turn piezoresistor, i.e. -I\\'!.RlR = 0.92E-3 per 10 mmHg. \\nHence, Model 2 which composed of O-turn piezoresistors \\n(placed in parallel) and 3-turns piezoresistors (placed in \\nperpendicular) gives the best sensitivity of all. \\nB. Analysis of Linearity PerfOrmance of the Sensors \\nThe non-linearity of the sensors is calculated using \\nexpression (5) [12] where A and Pmax are the calibrated and \\nmaximum pressure respectively while VoutCA) and VoutCAnax) \\nrefer to the output voltage at these pressures. Table 3 shows \\nthe non-linearity and sensitivity of each model. \\nv: (p.) v,;,APmaJ p out 1 1 \\nPm\" .100% \\n~lf{(Pmax) NL,= (5) \\nOverall, the linearity performances of the sensors fulfill the \\nspecification as all the models\\' linearity was above 90%. The \\nworst linearity performance (in which the non-linearity of \\n1.I2E-3%) was by Model 4 which comprises of three turns \\npiezoresistors only. This is in trend with the results obtained \\nby [11, 12]. The more number of turns ofpiezoresistor causes \\nthe distinct variation of resistance between the perpendicular \\nand parallel bars which contributes to worsen linearity [11]. \\nTABLE III. SUMMARY OF EACH MODEL\\'S CHARACTERISTICS \\nParameter Modell Model 2 Model 3 Model 4 \\nSensitivity 0.l01 0.125 0.l22 0.114 (mV/v/mmHg) \\nNon-linearity (%) 2.40E-04 8.82E-04 9.11E-04 1.12E-03 \\nC Comparison with the Existing MEMS Piezoresistive ICP \\nSensors \\nTable 4 shows the comparison of Model 2 with the \\nexisting MEMS Piezoresistive [CP Pressure Sensor. Model 2 \\nis considered to be an improved version for small diaphragm \\nalthough [9] gives the highest sensitivity performance and [10] \\nhas the smallest diaphragm size. \\nTABLE IV. COMPARISON WITH EXISTING MEMS PIEZORESISTIVE ICP \\nPRESSURE SENSORS \\nParameter Mode12 [7] [9] [10] \\n200 J.!m x 900 J.!m x radius 150 J.!m x \\nDiaphragm size 200 J.!m 900 J.!m 500 J.!m 150 J.!m \\n(square) (square) (circle) (square) \\nSensitivity 0.l25 10J.!V/V 0.17 2 J.!V/v \\n(mV/v/mmHg) ImmHg ImmHg \\nNon-linearity (%) 8.82E-04 <1.2 0.4 0.145 \\nV. CONCLUSION \\nOverall, all the models achieved the targeted sensitivity \\nand linearity of ICP pressure sensor, i.e. above 0.01 \\nmV/V/mmHg and 90% respectively. This sensitivity is higher \\nthan the one achieved by the similar sensor size. Model 2 \\nwhich consolidates the O-turn and 3-turns meander shaped \\npiezoresistors gives the highest sensitivity for pressure range from 0 to 100 mmHg. However, the best linearity \\nperformance is by Modell which composed of the O-turn and \\n2-turns meander shaped piezoresistors. This shows that the \\nsensitivity and linearity ofthe sensor are very much influenced \\nby the shapes of piezoresistors and their placements on the \\ndiaphragm. The 3-turns meander shaped piezoresistor \\npositioned perpendicular to the diaphragm gives the highest \\nchange in resistance which results in the highest sensitivity. \\nACKNOWLEDGEMENT \\nThe work is supported by the University Malaya Research \\nGrant UMRG-AET (Grant Number RPOI4B-13AET). The \\nauthors would also like to express their gratitude to the Micro \\nElectronic Laboratory, Faculty of Engineering for facilitating \\nthe research work. \\nREFERENCES \\n[1] G. Citerio and P. 1. D. Andrews, \"Intracranial pressure part two: clinical \\napplications and technology,\" in Applied Physiology in Intensive Care \\nMedicine. ed: Springer, 2009, pp. 109-112. \\n[2] S. S. Kumar and B. Pant, \"Design principles and considerations for the \\n\\'ideal\\'silicon piezoresistive pressure sensor: a focused review,\" \\nMicrosystem technologies. vol. 20, pp. 1213-1247, 2014. \\n[3] I. Clausen, S. Moe, and A. Vogl, \"Design and processing of a cost\\xad\\neffective piezoresistive MEMS cantilever sensor for medical and \\nbiomedical use,\" Journal of Micro mechanics and lvlicroengineering. vol. \\n22,p.074008,2012. \\n[4] W. Hasenkamp, D. Forchelet, K. Pataky, 1. Villard, H. Van Lintel, A. \\nBertsch. et aI, \"Polyimide/SU-8 catheter-tip MEMS gauge pressure \\nsensor,\" Biomedical microdevices. vol. 14, pp. 819-828,2012. \\n[5] L.-A. Liew and V. M. Bright, \"Disposable CMOS catheter-tip pressure \\nsensor for intracranial pressure measurement,\" in Microtechnologies in \\nMedicine and Biology, 1st Annual International. Conference On. 2000, \\n2000, pp. 130-135. \\n[6] X. Liu, Y. Yao, J. Ma, Y. Zhang, Q. Wang, Z. Zhang, et aI, \"Micro \\npackaged MEMS pressure sensor for intracranial pressure \\nmeasurement,\" Journal of Semiconductors. vol. 36,2015. \\n[7] X. Meng and Y. Zhao, \"Packaging a piezoresistive pressure sensor for \\nintracranial pressure monitoring,\" in SENSORS, 2014 fEEE, 2014, pp. \\n1827-1830. \\n[8] B. Pang, Z.-H. Zhang, and I.-L. Ren, \"Simulation and design of micro \\npressure sensors applied to measure the intracranial pressure,\" in \\nNanollvIicro Engineered and Molecular Systems (NElv!S). 2013 8th \\nIEEE International Conference on, 2013, pp. 120-123. \\n[9] Z. Wu, N. Bhatlacharjee, C. Li, J. Hartings, R. Narayan, and C. H. Ahn, \\n\"A new intracranial pressure sensor on polyimide lab-on-a-tube using \\nexchanged polysilicon piezoresistors,\" in Solid-State Sensors. Actuators \\nand lvlicrosystems (JRANSDUCERS & EUROSENSORS XXVII). 2013 \\nTransducers & Eurosensors XXVII: The 17th International Conference \\non. 2013, pp. 1779-1782. \\n[10] Y. Zhang, Z. Zhang, B. Pang, I.. Yuan, and T. Ren, \"Tiny MEMS-based \\npressure sensors in the measurement of Intracranial Pressure,\" Tsinghua \\nScience and Technology, vol. 19, pp. 161-167,2014. \\n[II] Y.-H. Zhang, C. Yang, Z.-H. Zhang, H.-W. Lin, I..-T. Liu, and I.-I.. \\nRen, \"A novel pressure microsensor with 30-J.!m-thick diaphragm and \\nmeander-shaped piezoresistors partially distributed on high-stress bulk \\nsilicon region,\" Sensors Journal, IEEE, vol. 7, pp. 1742-1748,2007. \\n[12] S. S. Kumar, A. K. Ojha, R. Nambisan, A. K. Sharma, and B. Pant, \\n\"Design and simulation of MEMS silicon piezoresistive pressure sensor \\nfor barometric applications,\" Proceedings of dle ARTCom&AR1EE \\nPEIE&itSfP and POE Elsevier. ISBN978-81-910691-8-J. pp. 339-345, \\n2013. \\n[13] Gaeltec, \"Product Guide,\" ed. UK, 2011, p. 19. \\n[14] A. Nisanth, K. Suja, and R. Komaragiri, \"Sensitivity enhancement of a \\nsilicon Based MEMS pressure sensor by optimization of size and \\nposition of piezoresistor,\" in Electronics and Communication Systems \\n(ICECS). 2014 International Conference on, 2014, pp. 1-5. '"
            ],
            "application/vnd.google.colaboratory.intrinsic+json": {
              "type": "string"
            }
          },
          "metadata": {},
          "execution_count": 14
        }
      ]
    },
    {
      "cell_type": "code",
      "source": [],
      "metadata": {
        "id": "Pssw3CYY5Xfl"
      },
      "execution_count": null,
      "outputs": []
    },
    {
      "cell_type": "code",
      "source": [
        "text_splitter=CharacterTextSplitter(\n",
        "    separator=\"\\n\",\n",
        "    chunk_size=800,\n",
        "    chunk_overlap=200,\n",
        "    length_function=len\n",
        ")\n",
        "\n",
        "texts=text_splitter.split_text(raw_text)"
      ],
      "metadata": {
        "id": "IbT_lrbfOIUK"
      },
      "execution_count": 11,
      "outputs": []
    },
    {
      "cell_type": "code",
      "source": [
        "texts"
      ],
      "metadata": {
        "colab": {
          "base_uri": "https://localhost:8080/"
        },
        "id": "ADZs4tfs4nn7",
        "outputId": "2e5ac4dd-7a9c-4ae5-fcee-8b39f7973f0e"
      },
      "execution_count": 13,
      "outputs": [
        {
          "output_type": "execute_result",
          "data": {
            "text/plain": [
              "['Design of a high sensitivity MEMS piezoresistive \\nintracranial pressure sensor using three turns meander \\nshaped piezoresistors \\nMazita Mohamada,d, Norhayati Soina,c,l, and Fatimah Ibrahimb,c \\naOepartment of Electrical Engineering, bOepartment of Biomedical Enginering, \\nFaculty of Engineering, University of Malaya, \\nKuala Lumpur, Malaysia \\nInorhayatisoin@um.edu.my \\nCCenter for Innovation in Medical Engineering (CIME), University of Malaya, \\nKuala Lumpur, Malaysia \\ndOepartment of Electronic Engineering, \\nFaculty of Electrical and Electronic Engineering, Universiti Tun Hussein Onn Malaysia (UTHM), \\nBatu Pahat, Johor, Malaysia \\nAbstract--- The advancement in MEMS technology has \\ntriggered the development of small sensing devices such as',\n",
              " 'Batu Pahat, Johor, Malaysia \\nAbstract--- The advancement in MEMS technology has \\ntriggered the development of small sensing devices such as \\nintracranial pressure sensor. As the intracranial signal is a \\npulsating type, the sensor must be sensitive enough to detect these \\nchanges. Hence, the important parameters of intracranial \\npressure sensor are the sensitivity and linearity. At present, the \\nsensitivities were within the range of 2 I1V/v/mmHg to 0.17 \\nmV/v/mmHg with the smallest sensor size of 500 11m x 500 11m \\n(for adult). This paper presents the improved design of MEMS \\npiezoresistive pressure which aims at achieving higher sensitivity \\nfor subarachnoid space microsensor by using the three turns \\nmeander shaped piezoresistors. A square diaphragm of200 11m x',\n",
              " 'piezoresistive pressure which aims at achieving higher sensitivity \\nfor subarachnoid space microsensor by using the three turns \\nmeander shaped piezoresistors. A square diaphragm of200 11m x \\n200 11m x 2 11m is set for the sensor. Different piezoresistors \\nconfigurations were simulated using COMSOL Multiphysics to \\ndetermine the better sensing outputs. The position of each \\npiezoresistor was based on von Mises stress. By choosing the \\nshape of piezoresistor that occupies most of the high stress \\nregion, the change in resistance per pressure will be higher. The \\ndesign which consolidates the three turns and zero turn meander \\nshaped piezoresistors was found to be the best with the sensitivity \\nof 0.125 mV/v/mmHg and linearity of 99%. This design has',\n",
              " 'design which consolidates the three turns and zero turn meander \\nshaped piezoresistors was found to be the best with the sensitivity \\nof 0.125 mV/v/mmHg and linearity of 99%. This design has \\nfulfilled the specification ofthe intracranial pressure sensor. \\nKeywords- intracranial pressure sensor; MEMS; piezoresistive \\nI. INTRODUCTION \\nThe sensors developed using the MEMS technology have \\ntremendously shrunk in size make them ideal for biomedical \\napplication like intracranial monitoring devices. Using a small \\npressure sensor requires a small intubation, makes the healing \\ntime shorter and minimizes the risk of infection. Based on [1], \\nthe most common location for intracranial pressure (lCP) \\nmonitoring is cerebral parenchymal and contemporary',\n",
              " 'time shorter and minimizes the risk of infection. Based on [1], \\nthe most common location for intracranial pressure (lCP) \\nmonitoring is cerebral parenchymal and contemporary \\nintracranial pressure sensor of that location is a piezoresistive \\npressure sensor. Although the piezoresistive output is \\nsensitive to temperature changes, it could be corrected easily \\nby using a simple compensation circuit, namely Wheatstone \\nbridge [2]. Ideally, the ICP pressure sensor should be durable, bio\\xad\\ncompatible and inexpensive. As ICP monitoring deals with \\nthe well-being, therefore accuracy and sensitivity of the ICP \\npressure sensors are very crucial. The sensitivity of the \\ncommercially available ICP microtransducer is 5 fl V N ImmHg \\n(Gaeltec & Raumedic). Based on the academic researches, the',\n",
              " 'pressure sensors are very crucial. The sensitivity of the \\ncommercially available ICP microtransducer is 5 fl V N ImmHg \\n(Gaeltec & Raumedic). Based on the academic researches, the \\nsensitivities of the piezoresistive sensors were within the range \\nof 2 fl V N ImmHg to 0.17 m V N ImmHg [3-10]. To obtain the \\naccurate readings, several factors need to be considered such \\nas the shapes of piezoresistors and the dimensions of the \\ndiaphragm. For the ICP application, its critical point is the \\nsize of the sensor itself. It needs to be small enough to fit into \\nthe probe. The smallest size of ICP pressure sensor for the \\nadult is 500 flm x 500 flm with the sensitivity of 2 \\nfl V N ImmHg, but it is for the lumbar area [10]. \\nThis paper presents the design of an ICP piezoresistive',\n",
              " 'adult is 500 flm x 500 flm with the sensitivity of 2 \\nfl V N ImmHg, but it is for the lumbar area [10]. \\nThis paper presents the design of an ICP piezoresistive \\npressure sensor using three turns meander shaped \\npiezoresistors. Thus far, only the one turn meander shaped \\npiezoresistors have been applied in the designs ofICP pressure \\nsensor [5, 7, 9, 10] while [3] have used the three turns \\nmeander shaped piezoresistors on the cantilever, not on the \\ndiaphragm like this work. The size of diaphragm used is 200 \\nflm x 200 flm x 2 flm using n-type silicon. The targeted \\nlocation of ICP pressure sensor is the subarachnoid space with \\nthe measurable pressure within the range of 0 -100 mmHg. \\nII. PIEZORESISTIVE PRESSURE SENSOR \\nA piezoresistive pressure sensor is normally consists of 4',\n",
              " 'the measurable pressure within the range of 0 -100 mmHg. \\nII. PIEZORESISTIVE PRESSURE SENSOR \\nA piezoresistive pressure sensor is normally consists of 4 \\npiezoresistors arranged in Wheatstone bridge configuration as \\nillustrated in Fig. I. When no pressure is applied, the output \\nvoltage, Vaut is zero as all the piezoresistors are equal, \\ntherefore the bridge is in a balanced state. When the \\ndiaphragm deflects due to the applied pressure, these \\npiezoresistors\\' values change accordingly. For the p-type \\npiezoresistors oriented at <110> on an-type (100) silicon \\nsubstrate, change in resistance value is expressed in (I) [2]. \\n978-1-5090-4568-6/16/$31.00 ©2016 IEEE Rj diaphragm \\nr - - - -0--\\'~-J\"\"-l--------\\n: --I \\nI R2 R31 b d \\nI 1 \\n1 \\\\J 1 \\n~ ___ CJ ____ ~ R, [J \\n(a) (b) (c)',\n",
              " '978-1-5090-4568-6/16/$31.00 ©2016 IEEE Rj diaphragm \\nr - - - -0--\\'~-J\"\"-l--------\\n: --I \\nI R2 R31 b d \\nI 1 \\n1 \\\\J 1 \\n~ ___ CJ ____ ~ R, [J \\n(a) (b) (c) \\nFig. l. (a) Schematic ofpiezoresistive pressure sensor (top view). (b) Pressure sensor (side view). (c) The equivalent Wheatstone configuration .[ll] \\n(1) \\nlr, and lrt are piezoresistive coefficients of the material \\nalong longitudinal and transverse directions and their \\nexpressions are indicated in (2) and (3). 0\\', and O\\'t are the \\nstresses along longitudinal and transverse directions [2]. \\n(2) \\n(3) \\nParallel piezoresistors will decrease and the perpendicular \\nones will increase [II]. Due to the symmetrical designs of \\nthese piezoresistors, the changes in resistances are equal',\n",
              " '(2) \\n(3) \\nParallel piezoresistors will decrease and the perpendicular \\nones will increase [II]. Due to the symmetrical designs of \\nthese piezoresistors, the changes in resistances are equal \\ndepending on the arrangement, i.e. I1R, = I1Rt and I1R 2= I1R J. \\nThus, the output voltage will also change as expressed in (4) \\nwhere R is the value of resistance when no pressure is applied. \\n(I1RI +I1R 2) V = ·v ~) \\nOllt 2R+I1R2 -I1RI 111 \\nIII. DESIGN METHODOLOGY \\nThe sensors were designed based on the specifications \\nsummarized in Table I. The size of the sensor was set in \\norder to fit into 4FR probe. The sensitivity of greater than \\n0.01 mV/V/mmHg was set as the previous research for the \\nsame sensor size is 2 f..lV/V/mmHg [10]. The design stage was',\n",
              " 'order to fit into 4FR probe. The sensitivity of greater than \\n0.01 mV/V/mmHg was set as the previous research for the \\nsame sensor size is 2 f..lV/V/mmHg [10]. The design stage was \\nsegregated into two, i.e. determine (a) the location for the \\npiezoresistors on the diaphragm size of 200 f..lm x 200 f..lm x 2 \\n/lm and (b) the best piezoresistors configuration. A square \\ndiaphragm is selected because it has 60 % higher mechanical \\nstress instead of circular one for the same thickness [7]. \\nA. Selection ofPiezoresistors Placement, Size and Shape \\nP-type piezoresistors (with doping concentration of 1015 \\natomlcm3) oriented at <110> on an-type (100) silicon \\nsubstrate were chosen in the designs. These piezoresistors \\nneed to be placed in the high stress region [2, 11, 12]. Hence,',\n",
              " 'atomlcm3) oriented at <110> on an-type (100) silicon \\nsubstrate were chosen in the designs. These piezoresistors \\nneed to be placed in the high stress region [2, 11, 12]. Hence, \\nthe von Mises stress result from the COMSOL Multiphysics \\nsimulation was used as illustrated in Fig. 2. The high stress \\nregion was found within the diaphragm and near the center of \\nthe edges, i.e. the red region. This is in agreement with the \\ntheory which states that the center of edges are experiencing TABLE I. DESIGN SPECIFIC A nONS OF ICP PRESSURE SENSOR \\nParameter Value \\nPressure range [13] 0-100 mmHg \\nSize dimension [10]: \\nSensor 500 11m x 500 11m \\nDiaphragm 200 11m x 200 11m \\nSensitivity [10] >0.01 mV/v/mmHg \\nLinearity [3-10] >90% \\nInput voltage , Vin [13] IV',\n",
              " \"Pressure range [13] 0-100 mmHg \\nSize dimension [10]: \\nSensor 500 11m x 500 11m \\nDiaphragm 200 11m x 200 11m \\nSensitivity [10] >0.01 mV/v/mmHg \\nLinearity [3-10] >90% \\nInput voltage , Vin [13] IV \\ntebal(4) =2e-6 Suriace: von Mises stress (MPa) Slice: x-coordinate (11m) \\nSlice: y-coordinate (I-Im) \\ny ~35.2 \\n35 \\n30 \\n25 \\n20 \\n15 \\n10 \\ny \\nL x \\nFig. 2. Surface von-Mises stress of the diaphragm at pressure of 100 mmHg. \\nmore mechanical stress than the central point [2]. As the 2 /lm \\nthickness is considered a thin diaphragm, the high stress \\nregion is not extended into the bulk silicon area as mentioned \\nin [II, 12]. Therefore, the four piezoresistors were positioned \\nat the center of the diaphragm's edges. Three types of piezoresistors were used in the design as\",\n",
              " \"in [II, 12]. Therefore, the four piezoresistors were positioned \\nat the center of the diaphragm's edges. Three types of piezoresistors were used in the design as \\ndepicted in Fig. 3. The piezoresistors were comprised of \\npiezoresistive bars (p-type) and connecting bars (metal). The \\nconnecting bars will not contribute to the piezoresistive effect \\n[12]. The piezoresistors sizes were designed to fit into the \\nhigh stress regions [II]. Hence, the dimension of O-turn \\nmeander shaped piezoresistor was set to 80 /lm x 5 /lm. To \\nensure the equal resistances at the no load condition, the total \\nlength of the piezoresistive bar must be equal [11]. Therefore, \\nthe piezoresistive bars of I-turn and 3-turns meander shaped \\npiezoresistors were set to be fractions of 80 /lm as shown in \\nTable 2.\",\n",
              " 'length of the piezoresistive bar must be equal [11]. Therefore, \\nthe piezoresistive bars of I-turn and 3-turns meander shaped \\npiezoresistors were set to be fractions of 80 /lm as shown in \\nTable 2. \\nB. Selection ofDifierent Piezoresistors Configurations \\nFour models of different piezoresistors sensors were \\nselected as shown in Fig. 4 in accomplishing the high \\nsensitivity sensor. The models were selected based on the \\nresearches by [11, 12]. In order to test their performances, the \\nsimulations were done by using COM SOL Multiphysics \\nthrough Structural Mechanics Module -Piezoresistivity, \\nBoundary Currents. Combinations of tetrahedral mesh (for \\ndiaphragm and substrate) and quadrilateral mesh (for circuit \\nelements) were used in this project. \\nIV. RESULTS AND DISCUSSIONS',\n",
              " 'Boundary Currents. Combinations of tetrahedral mesh (for \\ndiaphragm and substrate) and quadrilateral mesh (for circuit \\nelements) were used in this project. \\nIV. RESULTS AND DISCUSSIONS \\nTo ensure the linearity and sensitivity performance of the \\npressure sensor, several parameters need to be considered. \\nThese critical key factors include the shape and location of \\npiezoresistors. \\nA. Analysis of Sensitivity PerfOrmance of the Sensors \\nFig. 5 shows the output voltage of each model. All the \\nmodels achieve the targeted specification for sensitivity, i.e. \\nabove 0.01 mVIV/mmHg. Model 2, which comprised of 0-\\nturn and 3-turns piezoresistors gives the highest sensitivity of \\n0.125 m V IV /mmHg, followed closely by Model 3 which is \\ncomposed of I-turn and 3-turns meander shaped piezoresistors',\n",
              " 'turn and 3-turns piezoresistors gives the highest sensitivity of \\n0.125 m V IV /mmHg, followed closely by Model 3 which is \\ncomposed of I-turn and 3-turns meander shaped piezoresistors \\nwith the sensitivity of 0.122 mVIV/mmHg. Meanwhile, \\nModell gives the lowest sensitivity of 0.101 mVIV/mmHg. \\nThe results are supported with the graph of change in \\nresistance of different piezoresistor shapes, illustrated in Fig. \\n6. Parallel piezoresistors (R 1 and R4 of each model) decrease \\n~(==l~Pb~:j~~i~ ~r ./ ~ connecting bar piezoresistive baw \\nI: Iii Wpb l 5 gap \\n~ \\nWeb \\n(a) (b) (c) \\nFig. 3. Meander shaped piezoresistors (a) zero turn (O-turn) (b) one turn \\n(l-turn) (c) three turns (3-turns). \\nTABLE II. GEOMETRIC PARAMETERS OF P1EZORES1STORS \\nGeometric Parameter Zero turn One turn Three turns',\n",
              " '(l-turn) (c) three turns (3-turns). \\nTABLE II. GEOMETRIC PARAMETERS OF P1EZORES1STORS \\nGeometric Parameter Zero turn One turn Three turns \\nlpb 80 40 20 \\nWpb 5 5 5 \\nWeb - 10 10 \\ng,p - 5 5 \\n(All values are III J.lm) in resistance values while the perpendicular piezoresistors (R2 \\nand R3) increase in resistance values as the pressure increases. \\nThe 3-turns meander shaped piezoresistor located \\nperpendicular to the diaphragm experiences the most change, \\n+/l..R/R = 1.6E-3 per 10 mmHg. [t is followed by the I-turn \\npiezoresistor placed perpendicular to the diaphragm in which \\nthe change in resistance, +/l..R/R = 1.1 E-3 per 10 mmHg. The \\nresults concur with [II, 12] that the sensitivity will be \\nimproved as the number of vertical bar increases. It is due to',\n",
              " 'the change in resistance, +/l..R/R = 1.1 E-3 per 10 mmHg. The \\nresults concur with [II, 12] that the sensitivity will be \\nimproved as the number of vertical bar increases. It is due to \\nthe maximum distribution area of the piezoresistor on the \\nhigh-stress region in comparison to the other types of \\npiezoresistors [II]. \\nHowever, the placement of piezoresistor also plays an \\nimportant factor [2, 14] as illustrated in Fig. 6. The 3-turns \\nr--=---, \\nI , , , \\nL-. _ .c::==::::J __ J \\nModell \\n~--~---i \\n, , \\ni I \\n, I \\n~ __ -.aJ ___ ~ \\nModel 3 r - - c::==::::J\\'. --, \\nI , \\n~ W : ~ \\nI , \\n..... _ ,.C::==::::J. _ _ J \\nModel 2 \\nModel 4 R, \\n~---l:J---i \\n:R2 ~; \\nD D , I : ~ : \\n~ ___ D ____ ~ \\nFig. 4. Four models of different piezoresistors configurations. \\n12 \\n10 \\n:; \\noS 6 \\n\"5 \\ng 4 \\n20 .....',\n",
              " 'Model 2 \\nModel 4 R, \\n~---l:J---i \\n:R2 ~; \\nD D , I : ~ : \\n~ ___ D ____ ~ \\nFig. 4. Four models of different piezoresistors configurations. \\n12 \\n10 \\n:; \\noS 6 \\n\"5 \\ng 4 \\n20 ..... \\n40 60 80 100 \\nApplied pressure (mmHg) \\nFig. 5. Output voltage of each model at different pressure settings. \\nApplied pressure (mmHg) \\nFig. 6. Change in resistance for diflerent shape ofpiezoresistors. piezoresistor placed in parallel experiences the least change in \\nresistance, -I\\'!.RlR = 0.70E-3 per 10 mmHg. This is why \\nModel 4 does not give the highest sensitivity. For \\npiezoresistor placed in parallel, the most change happen in the \\nO-turn piezoresistor, i.e. -I\\'!.RlR = 0.92E-3 per 10 mmHg. \\nHence, Model 2 which composed of O-turn piezoresistors \\n(placed in parallel) and 3-turns piezoresistors (placed in',\n",
              " 'O-turn piezoresistor, i.e. -I\\'!.RlR = 0.92E-3 per 10 mmHg. \\nHence, Model 2 which composed of O-turn piezoresistors \\n(placed in parallel) and 3-turns piezoresistors (placed in \\nperpendicular) gives the best sensitivity of all. \\nB. Analysis of Linearity PerfOrmance of the Sensors \\nThe non-linearity of the sensors is calculated using \\nexpression (5) [12] where A and Pmax are the calibrated and \\nmaximum pressure respectively while VoutCA) and VoutCAnax) \\nrefer to the output voltage at these pressures. Table 3 shows \\nthe non-linearity and sensitivity of each model. \\nv: (p.) v,;,APmaJ p out 1 1 \\nPm\" .100% \\n~lf{(Pmax) NL,= (5) \\nOverall, the linearity performances of the sensors fulfill the \\nspecification as all the models\\' linearity was above 90%. The',\n",
              " 'v: (p.) v,;,APmaJ p out 1 1 \\nPm\" .100% \\n~lf{(Pmax) NL,= (5) \\nOverall, the linearity performances of the sensors fulfill the \\nspecification as all the models\\' linearity was above 90%. The \\nworst linearity performance (in which the non-linearity of \\n1.I2E-3%) was by Model 4 which comprises of three turns \\npiezoresistors only. This is in trend with the results obtained \\nby [11, 12]. The more number of turns ofpiezoresistor causes \\nthe distinct variation of resistance between the perpendicular \\nand parallel bars which contributes to worsen linearity [11]. \\nTABLE III. SUMMARY OF EACH MODEL\\'S CHARACTERISTICS \\nParameter Modell Model 2 Model 3 Model 4 \\nSensitivity 0.l01 0.125 0.l22 0.114 (mV/v/mmHg) \\nNon-linearity (%) 2.40E-04 8.82E-04 9.11E-04 1.12E-03',\n",
              " \"TABLE III. SUMMARY OF EACH MODEL'S CHARACTERISTICS \\nParameter Modell Model 2 Model 3 Model 4 \\nSensitivity 0.l01 0.125 0.l22 0.114 (mV/v/mmHg) \\nNon-linearity (%) 2.40E-04 8.82E-04 9.11E-04 1.12E-03 \\nC Comparison with the Existing MEMS Piezoresistive ICP \\nSensors \\nTable 4 shows the comparison of Model 2 with the \\nexisting MEMS Piezoresistive [CP Pressure Sensor. Model 2 \\nis considered to be an improved version for small diaphragm \\nalthough [9] gives the highest sensitivity performance and [10] \\nhas the smallest diaphragm size. \\nTABLE IV. COMPARISON WITH EXISTING MEMS PIEZORESISTIVE ICP \\nPRESSURE SENSORS \\nParameter Mode12 [7] [9] [10] \\n200 J.!m x 900 J.!m x radius 150 J.!m x \\nDiaphragm size 200 J.!m 900 J.!m 500 J.!m 150 J.!m \\n(square) (square) (circle) (square)\",\n",
              " 'PRESSURE SENSORS \\nParameter Mode12 [7] [9] [10] \\n200 J.!m x 900 J.!m x radius 150 J.!m x \\nDiaphragm size 200 J.!m 900 J.!m 500 J.!m 150 J.!m \\n(square) (square) (circle) (square) \\nSensitivity 0.l25 10J.!V/V 0.17 2 J.!V/v \\n(mV/v/mmHg) ImmHg ImmHg \\nNon-linearity (%) 8.82E-04 <1.2 0.4 0.145 \\nV. CONCLUSION \\nOverall, all the models achieved the targeted sensitivity \\nand linearity of ICP pressure sensor, i.e. above 0.01 \\nmV/V/mmHg and 90% respectively. This sensitivity is higher \\nthan the one achieved by the similar sensor size. Model 2 \\nwhich consolidates the O-turn and 3-turns meander shaped \\npiezoresistors gives the highest sensitivity for pressure range from 0 to 100 mmHg. However, the best linearity \\nperformance is by Modell which composed of the O-turn and',\n",
              " 'piezoresistors gives the highest sensitivity for pressure range from 0 to 100 mmHg. However, the best linearity \\nperformance is by Modell which composed of the O-turn and \\n2-turns meander shaped piezoresistors. This shows that the \\nsensitivity and linearity ofthe sensor are very much influenced \\nby the shapes of piezoresistors and their placements on the \\ndiaphragm. The 3-turns meander shaped piezoresistor \\npositioned perpendicular to the diaphragm gives the highest \\nchange in resistance which results in the highest sensitivity. \\nACKNOWLEDGEMENT \\nThe work is supported by the University Malaya Research \\nGrant UMRG-AET (Grant Number RPOI4B-13AET). The \\nauthors would also like to express their gratitude to the Micro \\nElectronic Laboratory, Faculty of Engineering for facilitating',\n",
              " 'Grant UMRG-AET (Grant Number RPOI4B-13AET). The \\nauthors would also like to express their gratitude to the Micro \\nElectronic Laboratory, Faculty of Engineering for facilitating \\nthe research work. \\nREFERENCES \\n[1] G. Citerio and P. 1. D. Andrews, \"Intracranial pressure part two: clinical \\napplications and technology,\" in Applied Physiology in Intensive Care \\nMedicine. ed: Springer, 2009, pp. 109-112. \\n[2] S. S. Kumar and B. Pant, \"Design principles and considerations for the \\n\\'ideal\\'silicon piezoresistive pressure sensor: a focused review,\" \\nMicrosystem technologies. vol. 20, pp. 1213-1247, 2014. \\n[3] I. Clausen, S. Moe, and A. Vogl, \"Design and processing of a cost\\xad\\neffective piezoresistive MEMS cantilever sensor for medical and',\n",
              " 'Microsystem technologies. vol. 20, pp. 1213-1247, 2014. \\n[3] I. Clausen, S. Moe, and A. Vogl, \"Design and processing of a cost\\xad\\neffective piezoresistive MEMS cantilever sensor for medical and \\nbiomedical use,\" Journal of Micro mechanics and lvlicroengineering. vol. \\n22,p.074008,2012. \\n[4] W. Hasenkamp, D. Forchelet, K. Pataky, 1. Villard, H. Van Lintel, A. \\nBertsch. et aI, \"Polyimide/SU-8 catheter-tip MEMS gauge pressure \\nsensor,\" Biomedical microdevices. vol. 14, pp. 819-828,2012. \\n[5] L.-A. Liew and V. M. Bright, \"Disposable CMOS catheter-tip pressure \\nsensor for intracranial pressure measurement,\" in Microtechnologies in \\nMedicine and Biology, 1st Annual International. Conference On. 2000, \\n2000, pp. 130-135. \\n[6] X. Liu, Y. Yao, J. Ma, Y. Zhang, Q. Wang, Z. Zhang, et aI, \"Micro',\n",
              " 'Medicine and Biology, 1st Annual International. Conference On. 2000, \\n2000, pp. 130-135. \\n[6] X. Liu, Y. Yao, J. Ma, Y. Zhang, Q. Wang, Z. Zhang, et aI, \"Micro \\npackaged MEMS pressure sensor for intracranial pressure \\nmeasurement,\" Journal of Semiconductors. vol. 36,2015. \\n[7] X. Meng and Y. Zhao, \"Packaging a piezoresistive pressure sensor for \\nintracranial pressure monitoring,\" in SENSORS, 2014 fEEE, 2014, pp. \\n1827-1830. \\n[8] B. Pang, Z.-H. Zhang, and I.-L. Ren, \"Simulation and design of micro \\npressure sensors applied to measure the intracranial pressure,\" in \\nNanollvIicro Engineered and Molecular Systems (NElv!S). 2013 8th \\nIEEE International Conference on, 2013, pp. 120-123. \\n[9] Z. Wu, N. Bhatlacharjee, C. Li, J. Hartings, R. Narayan, and C. H. Ahn,',\n",
              " 'NanollvIicro Engineered and Molecular Systems (NElv!S). 2013 8th \\nIEEE International Conference on, 2013, pp. 120-123. \\n[9] Z. Wu, N. Bhatlacharjee, C. Li, J. Hartings, R. Narayan, and C. H. Ahn, \\n\"A new intracranial pressure sensor on polyimide lab-on-a-tube using \\nexchanged polysilicon piezoresistors,\" in Solid-State Sensors. Actuators \\nand lvlicrosystems (JRANSDUCERS & EUROSENSORS XXVII). 2013 \\nTransducers & Eurosensors XXVII: The 17th International Conference \\non. 2013, pp. 1779-1782. \\n[10] Y. Zhang, Z. Zhang, B. Pang, I.. Yuan, and T. Ren, \"Tiny MEMS-based \\npressure sensors in the measurement of Intracranial Pressure,\" Tsinghua \\nScience and Technology, vol. 19, pp. 161-167,2014. \\n[II] Y.-H. Zhang, C. Yang, Z.-H. Zhang, H.-W. Lin, I..-T. Liu, and I.-I..',\n",
              " 'pressure sensors in the measurement of Intracranial Pressure,\" Tsinghua \\nScience and Technology, vol. 19, pp. 161-167,2014. \\n[II] Y.-H. Zhang, C. Yang, Z.-H. Zhang, H.-W. Lin, I..-T. Liu, and I.-I.. \\nRen, \"A novel pressure microsensor with 30-J.!m-thick diaphragm and \\nmeander-shaped piezoresistors partially distributed on high-stress bulk \\nsilicon region,\" Sensors Journal, IEEE, vol. 7, pp. 1742-1748,2007. \\n[12] S. S. Kumar, A. K. Ojha, R. Nambisan, A. K. Sharma, and B. Pant, \\n\"Design and simulation of MEMS silicon piezoresistive pressure sensor \\nfor barometric applications,\" Proceedings of dle ARTCom&AR1EE \\nPEIE&itSfP and POE Elsevier. ISBN978-81-910691-8-J. pp. 339-345, \\n2013. \\n[13] Gaeltec, \"Product Guide,\" ed. UK, 2011, p. 19.',\n",
              " 'for barometric applications,\" Proceedings of dle ARTCom&AR1EE \\nPEIE&itSfP and POE Elsevier. ISBN978-81-910691-8-J. pp. 339-345, \\n2013. \\n[13] Gaeltec, \"Product Guide,\" ed. UK, 2011, p. 19. \\n[14] A. Nisanth, K. Suja, and R. Komaragiri, \"Sensitivity enhancement of a \\nsilicon Based MEMS pressure sensor by optimization of size and \\nposition of piezoresistor,\" in Electronics and Communication Systems \\n(ICECS). 2014 International Conference on, 2014, pp. 1-5.']"
            ]
          },
          "metadata": {},
          "execution_count": 13
        }
      ]
    },
    {
      "cell_type": "code",
      "source": [
        "len(texts)"
      ],
      "metadata": {
        "colab": {
          "base_uri": "https://localhost:8080/"
        },
        "id": "t6zll5-95YYS",
        "outputId": "ca7b4de2-eadb-4820-af59-52758495f219"
      },
      "execution_count": 15,
      "outputs": [
        {
          "output_type": "execute_result",
          "data": {
            "text/plain": [
              "31"
            ]
          },
          "metadata": {},
          "execution_count": 15
        }
      ]
    },
    {
      "cell_type": "code",
      "source": [
        "embeddings=OpenAIEmbeddings()"
      ],
      "metadata": {
        "colab": {
          "base_uri": "https://localhost:8080/"
        },
        "id": "PBzzfEhz5MLk",
        "outputId": "6cadb393-b155-41e5-8dc4-3eb2abbc0806"
      },
      "execution_count": 18,
      "outputs": [
        {
          "output_type": "stream",
          "name": "stderr",
          "text": [
            "/usr/local/lib/python3.10/dist-packages/langchain_core/_api/deprecation.py:117: LangChainDeprecationWarning: The class `langchain_community.embeddings.openai.OpenAIEmbeddings` was deprecated in langchain-community 0.0.9 and will be removed in 0.2.0. An updated version of the class exists in the langchain-openai package and should be used instead. To use it run `pip install -U langchain-openai` and import as `from langchain_openai import OpenAIEmbeddings`.\n",
            "  warn_deprecated(\n"
          ]
        }
      ]
    },
    {
      "cell_type": "code",
      "source": [
        "!pip install faiss-gpu"
      ],
      "metadata": {
        "colab": {
          "base_uri": "https://localhost:8080/"
        },
        "id": "bDz5h-aF6JUr",
        "outputId": "1897f506-fc8b-4335-ccd5-e565469cf825"
      },
      "execution_count": 20,
      "outputs": [
        {
          "output_type": "stream",
          "name": "stdout",
          "text": [
            "Collecting faiss-gpu\n",
            "  Downloading faiss_gpu-1.7.2-cp310-cp310-manylinux_2_17_x86_64.manylinux2014_x86_64.whl (85.5 MB)\n",
            "\u001b[2K     \u001b[90m━━━━━━━━━━━━━━━━━━━━━━━━━━━━━━━━━━━━━━━━\u001b[0m \u001b[32m85.5/85.5 MB\u001b[0m \u001b[31m8.4 MB/s\u001b[0m eta \u001b[36m0:00:00\u001b[0m\n",
            "\u001b[?25hInstalling collected packages: faiss-gpu\n",
            "Successfully installed faiss-gpu-1.7.2\n"
          ]
        }
      ]
    },
    {
      "cell_type": "code",
      "source": [
        "document_search=FAISS.from_texts(texts,embeddings)"
      ],
      "metadata": {
        "id": "rw9Zhtfm5xkR"
      },
      "execution_count": 28,
      "outputs": []
    },
    {
      "cell_type": "code",
      "source": [
        "document_search"
      ],
      "metadata": {
        "colab": {
          "base_uri": "https://localhost:8080/"
        },
        "id": "7-grhZHr6Eiw",
        "outputId": "5c0e8a69-8176-4616-a07b-23cfdecdc3b8"
      },
      "execution_count": 22,
      "outputs": [
        {
          "output_type": "execute_result",
          "data": {
            "text/plain": [
              "<langchain_community.vectorstores.faiss.FAISS at 0x7ba378346710>"
            ]
          },
          "metadata": {},
          "execution_count": 22
        }
      ]
    },
    {
      "cell_type": "code",
      "source": [
        "from langchain.chains.question_answering import load_qa_chain"
      ],
      "metadata": {
        "id": "2WEjfqzE6UVy"
      },
      "execution_count": 23,
      "outputs": []
    },
    {
      "cell_type": "code",
      "source": [
        "from langchain.llms import OpenAI"
      ],
      "metadata": {
        "id": "Hs6Ij6XG6oMJ"
      },
      "execution_count": 24,
      "outputs": []
    },
    {
      "cell_type": "code",
      "source": [
        "chain=load_qa_chain(OpenAI(),chain_type=\"stuff\")"
      ],
      "metadata": {
        "colab": {
          "base_uri": "https://localhost:8080/"
        },
        "id": "S127_u4-6roO",
        "outputId": "a6c691a4-9bd2-42f5-c6cf-298e7ed9cd92"
      },
      "execution_count": 25,
      "outputs": [
        {
          "output_type": "stream",
          "name": "stderr",
          "text": [
            "/usr/local/lib/python3.10/dist-packages/langchain_core/_api/deprecation.py:117: LangChainDeprecationWarning: The class `langchain_community.llms.openai.OpenAI` was deprecated in langchain-community 0.0.10 and will be removed in 0.2.0. An updated version of the class exists in the langchain-openai package and should be used instead. To use it run `pip install -U langchain-openai` and import as `from langchain_openai import OpenAI`.\n",
            "  warn_deprecated(\n"
          ]
        }
      ]
    },
    {
      "cell_type": "code",
      "source": [
        "query=\"WhY SQUARE SHAPED DIAPHRAGM IS SELECTED?\"\n",
        "docs=document_search.similarity_search(query)\n",
        "chain.run(input_documents=docs,question=query)"
      ],
      "metadata": {
        "colab": {
          "base_uri": "https://localhost:8080/",
          "height": 35
        },
        "id": "QtLiKMwA65-n",
        "outputId": "a5d74310-5319-4fe0-acc8-aa13ceabb943"
      },
      "execution_count": 29,
      "outputs": [
        {
          "output_type": "execute_result",
          "data": {
            "text/plain": [
              "' A square diaphragm is selected because it has 60% higher mechanical stress instead of a circular one for the same thickness.'"
            ],
            "application/vnd.google.colaboratory.intrinsic+json": {
              "type": "string"
            }
          },
          "metadata": {},
          "execution_count": 29
        }
      ]
    },
    {
      "cell_type": "code",
      "source": [],
      "metadata": {
        "id": "q8rDBONX7Pan"
      },
      "execution_count": null,
      "outputs": []
    }
  ]
}