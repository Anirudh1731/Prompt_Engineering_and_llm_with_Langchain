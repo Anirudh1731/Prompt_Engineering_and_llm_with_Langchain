{
 "cells": [
  {
   "cell_type": "code",
   "execution_count": 1,
   "metadata": {},
   "outputs": [],
   "source": [
    "import os\n",
    "os.environ[\"OPENAI_API_KEY\"]=\"\""
   ]
  },
  {
   "cell_type": "code",
   "execution_count": 5,
   "metadata": {},
   "outputs": [],
   "source": [
    "import langchain\n",
    "from langchain_core.prompts import PromptTemplate"
   ]
  },
  {
   "cell_type": "code",
   "execution_count": 39,
   "metadata": {},
   "outputs": [
    {
     "data": {
      "text/plain": [
       "'I want you to act as a financial advisor for people. In an easy way , explain basics of Income tax'"
      ]
     },
     "execution_count": 39,
     "metadata": {},
     "output_type": "execute_result"
    }
   ],
   "source": [
    "template1='''I want you to act as a financial advisor for people. In an easy way , explain basics of {financial_concept}'''\n",
    "\n",
    "\n",
    "prompt=PromptTemplate(\n",
    "    input_variables=['financial_concept'],\n",
    "    template=template1\n",
    ")\n",
    "\n",
    "#in order to see how thr prompt is sent to LLM model\n",
    "prompt.format(financial_concept='Income tax')"
   ]
  },
  {
   "cell_type": "code",
   "execution_count": 10,
   "metadata": {},
   "outputs": [
    {
     "name": "stderr",
     "output_type": "stream",
     "text": [
      "c:\\Users\\Anirudh\\OneDrive\\Desktop\\LLM\\.venv\\lib\\site-packages\\langchain_core\\_api\\deprecation.py:117: LangChainDeprecationWarning: The class `langchain_community.llms.openai.OpenAI` was deprecated in langchain-community 0.0.10 and will be removed in 0.2.0. An updated version of the class exists in the langchain-openai package and should be used instead. To use it run `pip install -U langchain-openai` and import as `from langchain_openai import OpenAI`.\n",
      "  warn_deprecated(\n"
     ]
    }
   ],
   "source": [
    "from langchain_community.llms import openai\n",
    "# need llm chain whener dealing with prompts\n",
    "from langchain.chains import LLMChain\n",
    "\n",
    "llm=openai.OpenAI(temperature=0.8)\n",
    "chain1=LLMChain(llm=llm,prompt=prompt)"
   ]
  },
  {
   "cell_type": "code",
   "execution_count": 11,
   "metadata": {},
   "outputs": [
    {
     "name": "stderr",
     "output_type": "stream",
     "text": [
      "c:\\Users\\Anirudh\\OneDrive\\Desktop\\LLM\\.venv\\lib\\site-packages\\langchain_core\\_api\\deprecation.py:117: LangChainDeprecationWarning: The function `run` was deprecated in LangChain 0.1.0 and will be removed in 0.2.0. Use invoke instead.\n",
      "  warn_deprecated(\n"
     ]
    },
    {
     "data": {
      "text/plain": [
       "'\\n\\nAs a financial advisor, it is important to understand the basics of income tax in order to help individuals make informed financial decisions. Income tax is a type of tax that is paid on the money you earn from various sources, such as your salary, wages, investments, and business profits.\\n\\nThe amount of income tax you owe is determined by your taxable income, which is the total amount of money you earn minus any deductions or exemptions. The tax rates for different income levels are set by the government and may change from year to year.\\n\\nThere are two main types of income tax: federal and state. Federal income tax is collected by the federal government and applies to all individuals and businesses in the United States. State income tax is collected by individual states and may vary depending on where you live.\\n\\nThe IRS, or Internal Revenue Service, is the government agency in charge of collecting federal income tax. Every year, individuals must file their tax returns, which is a document that reports their income and calculates how much tax they owe. The deadline for filing tax returns is typically April 15th of each year.\\n\\nThere are various ways to lower your taxable income and reduce the amount of tax you owe. One way is through deductions, which are expenses that can be subtracted from your taxable'"
      ]
     },
     "execution_count": 11,
     "metadata": {},
     "output_type": "execute_result"
    }
   ],
   "source": [
    "chain1.run(\"income tax\")"
   ]
  },
  {
   "cell_type": "code",
   "execution_count": 27,
   "metadata": {},
   "outputs": [
    {
     "data": {
      "text/plain": [
       "\"\\n\\nSure, I can definitely explain the basics of Public Provident Fund (PPF) in an easy-to-understand manner.\\n\\nPPF is a long-term savings and investment scheme offered by the government of India for individuals looking to build a retirement corpus or save for their children's education. It is a popular investment option due to its attractive interest rates, tax benefits, and low risk.\\n\\nHere's how it works:\\n\\n1. Eligibility: Any Indian resident above the age of 18 can open a PPF account. Parents can also open an account for their minor children.\\n\\n2. Account Opening: You can open a PPF account at any nationalized bank, post office, or select private banks. The minimum deposit to open an account is Rs. 100, and the maximum is Rs. 1.5 lakhs in a financial year.\\n\\n3. Tenure: The tenure of a PPF account is 15 years, and it can be extended in blocks of 5 years after maturity.\\n\\n4. Interest Rate: The interest rate on PPF is decided by the government and is currently 7.1% for the financial year 2021-22. The interest is compounded annually and credited to the account at the end of each financial year.\\n\\n5\""
      ]
     },
     "execution_count": 27,
     "metadata": {},
     "output_type": "execute_result"
    }
   ],
   "source": [
    "chain1.run(\"Public provident fund\")"
   ]
  },
  {
   "cell_type": "code",
   "execution_count": 29,
   "metadata": {},
   "outputs": [
    {
     "data": {
      "text/plain": [
       "\" of the Income Tax Act\\n\\nSection 89 of the Income Tax Act allows individuals to claim relief for any additional income they receive in a particular financial year. This could be in the form of arrears or salary received in advance.\\n\\nHere's how you can help your clients claim relief under section 89:\\n\\n1. Understand the situation: First and foremost, you need to understand your client's situation. Ask them if they have received any additional income during the year in question, such as a bonus, arrears, or salary in advance.\\n\\n2. Calculate the tax on the additional income: Next, you need to calculate the tax payable on the additional income. This can be done by using the tax slab applicable to your client's total income, including the additional income.\\n\\n3. Calculate the tax on the additional income in the year it was received: Then, calculate the tax on the additional income in the year it was received. This can be done by applying the tax slab applicable for that particular year.\\n\\n4. Calculate the difference: Now, calculate the difference between the tax payable on the additional income in the current year and the year it was received. This is the amount of relief your client is eligible to claim under section 89.\\n\\n5. File Form 10\""
      ]
     },
     "execution_count": 29,
     "metadata": {},
     "output_type": "execute_result"
    }
   ],
   "source": [
    "chain1.run(\"How to claim relief under section 89\")"
   ]
  },
  {
   "cell_type": "code",
   "execution_count": 12,
   "metadata": {},
   "outputs": [
    {
     "data": {
      "text/plain": [
       "\"\\n\\nGDP stands for Gross Domestic Product and it is an important measure of a country's economic health. It represents the total value of all goods and services produced within a country's borders in a specific time period, usually a year. \\n\\nGDP is calculated by adding up the value of all final goods and services produced in a country, including goods like cars and services like haircuts. It also includes the value of government spending and exports, while subtracting the value of imports.\\n\\nGDP is a useful measure because it tells us how much a country is producing and how strong its economy is. A high GDP can indicate a strong economy with high levels of production and consumption, while a low GDP can indicate a weaker economy.\\n\\nThere are different ways to measure GDP, including the income approach, which looks at the income earned by individuals and businesses, and the expenditure approach, which looks at the spending on goods and services.\\n\\nIt's important to note that GDP does not necessarily reflect the well-being of individual citizens. For example, a country with a high GDP may still have high levels of poverty and income inequality.\\n\\nIn general, a growing GDP is seen as a positive sign for an economy, but it's also important to consider other factors such as inflation and unemployment rates. As\""
      ]
     },
     "execution_count": 12,
     "metadata": {},
     "output_type": "execute_result"
    }
   ],
   "source": [
    "chain1.run('GDP')"
   ]
  },
  {
   "cell_type": "code",
   "execution_count": 15,
   "metadata": {},
   "outputs": [],
   "source": [
    "#language translation\n",
    "\n",
    "template2='''In an easy way translate the following sentences '{sentence}' into {target_language}'''\n",
    "\n",
    "language_prompt=PromptTemplate(\n",
    "    input_variables=[\"sentence\",'target_language'],\n",
    "    template=template2\n",
    ")"
   ]
  },
  {
   "cell_type": "code",
   "execution_count": 16,
   "metadata": {},
   "outputs": [
    {
     "data": {
      "text/plain": [
       "\"In an easy way translate the following sentences 'How are you' into hindi\""
      ]
     },
     "execution_count": 16,
     "metadata": {},
     "output_type": "execute_result"
    }
   ],
   "source": [
    "language_prompt.format(sentence=\"How are you\",target_language='hindi')"
   ]
  },
  {
   "cell_type": "code",
   "execution_count": 17,
   "metadata": {},
   "outputs": [],
   "source": [
    "chain2=LLMChain(llm=llm,prompt=language_prompt)\n"
   ]
  },
  {
   "cell_type": "code",
   "execution_count": 18,
   "metadata": {},
   "outputs": [
    {
     "name": "stderr",
     "output_type": "stream",
     "text": [
      "c:\\Users\\Anirudh\\OneDrive\\Desktop\\LLM\\.venv\\lib\\site-packages\\langchain_core\\_api\\deprecation.py:117: LangChainDeprecationWarning: The function `__call__` was deprecated in LangChain 0.1.0 and will be removed in 0.2.0. Use invoke instead.\n",
      "  warn_deprecated(\n"
     ]
    },
    {
     "data": {
      "text/plain": [
       "{'sentence': 'Hello how are you ?',\n",
       " 'target_language': 'hindi',\n",
       " 'text': '\\n\\nनमस्ते आप कैसे हो?'}"
      ]
     },
     "execution_count": 18,
     "metadata": {},
     "output_type": "execute_result"
    }
   ],
   "source": [
    "#to run the model with multiple inputs (in form of dictionary)\n",
    "chain2({'sentence':\"Hello how are you ?\",'target_language':'hindi'})"
   ]
  },
  {
   "cell_type": "code",
   "execution_count": 19,
   "metadata": {},
   "outputs": [],
   "source": [
    "from langchain.prompts.few_shot import FewShotPromptTemplate\n",
    "from langchain.prompts.prompt import PromptTemplate\n",
    "\n"
   ]
  },
  {
   "cell_type": "code",
   "execution_count": 20,
   "metadata": {},
   "outputs": [],
   "source": [
    "#training LLM with examples \n",
    "examples=[{\"word\":'Big',\"antonym\":'small'},{\"word\":'happy',\"antonym\":'sad'}]\n",
    "\n",
    "example_prompt=PromptTemplate(\n",
    "    input_variables=['word','antonym'],\n",
    "    template=\"word:{word} Antonym:{antonym}\"\n",
    ")"
   ]
  },
  {
   "cell_type": "code",
   "execution_count": 32,
   "metadata": {},
   "outputs": [],
   "source": [
    "# utilizing few shot template to train with examples\n",
    "prompt = FewShotPromptTemplate(\n",
    "    examples=examples,\n",
    "    example_prompt=example_prompt,\n",
    "    suffix=\"word: {word}\",\n",
    "    input_variables=[\"word\"],\n",
    ")"
   ]
  },
  {
   "cell_type": "code",
   "execution_count": 33,
   "metadata": {},
   "outputs": [
    {
     "name": "stdout",
     "output_type": "stream",
     "text": [
      "word:Big Antonym:small\n",
      "\n",
      "word:happy Antonym:sad\n",
      "\n",
      "word: Heavy\n"
     ]
    }
   ],
   "source": [
    "print(prompt.format(word=\"Heavy\"))"
   ]
  },
  {
   "cell_type": "code",
   "execution_count": 34,
   "metadata": {},
   "outputs": [],
   "source": [
    "chain3=LLMChain(llm=llm,prompt=prompt)"
   ]
  },
  {
   "cell_type": "code",
   "execution_count": 35,
   "metadata": {},
   "outputs": [
    {
     "data": {
      "text/plain": [
       "' Antonym: light'"
      ]
     },
     "execution_count": 35,
     "metadata": {},
     "output_type": "execute_result"
    }
   ],
   "source": [
    "chain3.run('Heavy')"
   ]
  },
  {
   "cell_type": "code",
   "execution_count": 38,
   "metadata": {},
   "outputs": [
    {
     "name": "stderr",
     "output_type": "stream",
     "text": [
      "2024-04-02 17:39:12.275 \n",
      "  \u001b[33m\u001b[1mWarning:\u001b[0m to view this Streamlit app on a browser, run it with the following\n",
      "  command:\n",
      "\n",
      "    streamlit run c:\\Users\\Anirudh\\OneDrive\\Desktop\\LLM\\.venv\\lib\\site-packages\\ipykernel_launcher.py [ARGUMENTS]\n"
     ]
    }
   ],
   "source": [
    "import streamlit as st\n",
    "st.title(\"Financial advisor nandu \")\n",
    "input_text=st.text_input(\"Search the topic\")"
   ]
  },
  {
   "cell_type": "code",
   "execution_count": 40,
   "metadata": {},
   "outputs": [],
   "source": [
    "import streamlit as st\n",
    "st.title(\"Financial advisor nandu \")\n",
    "input_text=st.text_input(\"Search the topic\")\n",
    "if input_text:\n",
    "    st.write(chain1({'financial_concept':input_text}))"
   ]
  },
  {
   "cell_type": "code",
   "execution_count": null,
   "metadata": {},
   "outputs": [],
   "source": []
  }
 ],
 "metadata": {
  "kernelspec": {
   "display_name": ".venv",
   "language": "python",
   "name": "python3"
  },
  "language_info": {
   "codemirror_mode": {
    "name": "ipython",
    "version": 3
   },
   "file_extension": ".py",
   "mimetype": "text/x-python",
   "name": "python",
   "nbconvert_exporter": "python",
   "pygments_lexer": "ipython3",
   "version": "3.10.1"
  }
 },
 "nbformat": 4,
 "nbformat_minor": 2
}
